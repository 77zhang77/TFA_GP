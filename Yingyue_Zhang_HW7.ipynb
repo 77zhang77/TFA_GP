{
 "cells": [
  {
   "cell_type": "markdown",
   "metadata": {},
   "source": [
    "<h1>Citibike Network Assignment</h1>\n",
    "<li>The file, 201809-citibike-tripdata.csv, contains citibike trip data from September 2018 (a reasonable sized file!)\n",
    "<li>The data:<br>\n",
    "\"tripduration\",\"starttime\",\"stoptime\",\"start station id\",\"start station name\",\"start station latitude\",\"start station longitude\",\"end station id\",\"end station name\",\"end station latitude\",\"end station longitude\",\"bikeid\",\"usertype\",\"birth year\",\"gender\"\n",
    "<li>Each record in the data is a trip \n",
    "<li>The data is described at https://www.citibikenyc.com/system-data"
   ]
  },
  {
   "cell_type": "markdown",
   "metadata": {},
   "source": [
    "<h1>STEP 1: Read the data into a dataframe</h1>\n",
    "<li>Convert station ids to str if necessary"
   ]
  },
  {
   "cell_type": "code",
   "execution_count": 1,
   "metadata": {},
   "outputs": [
    {
     "name": "stdout",
     "output_type": "stream",
     "text": [
      "<class 'pandas.core.frame.DataFrame'>\n",
      "RangeIndex: 718994 entries, 0 to 718993\n",
      "Data columns (total 15 columns):\n",
      " #   Column                   Non-Null Count   Dtype  \n",
      "---  ------                   --------------   -----  \n",
      " 0   tripduration             718994 non-null  int64  \n",
      " 1   starttime                718994 non-null  object \n",
      " 2   stoptime                 718994 non-null  object \n",
      " 3   start station id         718994 non-null  int64  \n",
      " 4   start station name       718994 non-null  object \n",
      " 5   start station latitude   718994 non-null  float64\n",
      " 6   start station longitude  718994 non-null  float64\n",
      " 7   end station id           718994 non-null  int64  \n",
      " 8   end station name         718994 non-null  object \n",
      " 9   end station latitude     718994 non-null  float64\n",
      " 10  end station longitude    718994 non-null  float64\n",
      " 11  bikeid                   718994 non-null  int64  \n",
      " 12  usertype                 718994 non-null  object \n",
      " 13  birth year               718994 non-null  int64  \n",
      " 14  gender                   718994 non-null  int64  \n",
      "dtypes: float64(4), int64(6), object(5)\n",
      "memory usage: 82.3+ MB\n"
     ]
    }
   ],
   "source": [
    "import pandas as pd\n",
    "import numpy as np\n",
    "datafile = \"201801-citibike-tripdata.csv\"\n",
    "df = pd.read_csv(datafile)\n",
    "df.info()"
   ]
  },
  {
   "cell_type": "markdown",
   "metadata": {},
   "source": [
    "<h1>STEP 2: Basic cleaning</h1>\n",
    "<li>Remove data that have any nans in any row (none in this file but others do have nans)\n",
    "<li>and convert stationids to str "
   ]
  },
  {
   "cell_type": "code",
   "execution_count": 2,
   "metadata": {},
   "outputs": [],
   "source": [
    "df.dropna(axis=0,inplace=True)\n",
    "df = df[df['start station id'] != df['end station id']]\n",
    "df = df.astype({'end station id': str, 'start station id': str})"
   ]
  },
  {
   "cell_type": "code",
   "execution_count": 3,
   "metadata": {},
   "outputs": [
    {
     "name": "stdout",
     "output_type": "stream",
     "text": [
      "<class 'pandas.core.frame.DataFrame'>\n",
      "Int64Index: 709637 entries, 0 to 718993\n",
      "Data columns (total 15 columns):\n",
      " #   Column                   Non-Null Count   Dtype  \n",
      "---  ------                   --------------   -----  \n",
      " 0   tripduration             709637 non-null  int64  \n",
      " 1   starttime                709637 non-null  object \n",
      " 2   stoptime                 709637 non-null  object \n",
      " 3   start station id         709637 non-null  object \n",
      " 4   start station name       709637 non-null  object \n",
      " 5   start station latitude   709637 non-null  float64\n",
      " 6   start station longitude  709637 non-null  float64\n",
      " 7   end station id           709637 non-null  object \n",
      " 8   end station name         709637 non-null  object \n",
      " 9   end station latitude     709637 non-null  float64\n",
      " 10  end station longitude    709637 non-null  float64\n",
      " 11  bikeid                   709637 non-null  int64  \n",
      " 12  usertype                 709637 non-null  object \n",
      " 13  birth year               709637 non-null  int64  \n",
      " 14  gender                   709637 non-null  int64  \n",
      "dtypes: float64(4), int64(4), object(7)\n",
      "memory usage: 86.6+ MB\n"
     ]
    }
   ],
   "source": [
    "df.info()"
   ]
  },
  {
   "cell_type": "markdown",
   "metadata": {},
   "source": [
    "<h1>STEP 3: Write a function that returns a graph given a citibike data frame</h1> \n",
    "<li>Your function should return two things:\n",
    "<ol>\n",
    "<li>a graph\n",
    "<li>a dictionary with station ids as the key and station name as the value\n",
    "</ol>\n",
    "<li>The graph should contain \n",
    "<ol>\n",
    "<li>nodes (station ids)\n",
    "<li>edges (station id, station id)\n",
    "<li>edge data \n",
    "<ol>\n",
    "<li>count: number of trips on the edge\n",
    "<li>time: average duration - pickup to dropoff - on that edge\n",
    "</ol>\n",
    "</ol>\n",
    "<li><b>Note:</b> the edge (x1,y1) is the same as (y1,x1) even though the start station ids and end station ids are flipped in the dataframe"
   ]
  },
  {
   "cell_type": "code",
   "execution_count": 4,
   "metadata": {},
   "outputs": [],
   "source": [
    "def get_citibike_graph(df):\n",
    "    s = 'start station id'\n",
    "    e = 'end station id'\n",
    "    import networkx as nx\n",
    "    G = nx.Graph()\n",
    "    node_names = dict()\n",
    "    edges = list()\n",
    "    # node_names = dict(zip(df[['start station id','end station id']],df[['start station name','end station name']]))\n",
    "    ids = df[s]\n",
    "    ids.append(df[e])\n",
    "    nodes = list(ids.unique())\n",
    "    station_name = list()\n",
    "    for n in range(len(nodes)):\n",
    "        try:\n",
    "            station_name.append(df['start station name'][df[s]==nodes[n]].iloc[0])\n",
    "        except:\n",
    "            station_name.append(df['end station name'][df[e]==nodes[n]].iloc[0])\n",
    "    node_names = dict(zip(nodes,station_name))   \n",
    "    for i in range(len(df[s])):\n",
    "        # the small id goes first\n",
    "        a = int(df.iloc[i][s])\n",
    "        b =  int(df.iloc[i][e])\n",
    "        if a < b:\n",
    "            edges.append((df.iloc[i][s],df.iloc[i][e]))\n",
    "        else:\n",
    "            edges.append((df.iloc[i][e],df.iloc[i][s]))  \n",
    "    df[['Start_id','End_id']] = [[edges[i][0],edges[i][1]] for i in range(len(edges))]\n",
    "    \n",
    "    unq_edges = set(edges)\n",
    "    unq_edges = list(unq_edges)\n",
    "    # start = [unq_edges[i][0] for i in range(len(unq_edges))]\n",
    "    # end = [unq_edges[i][1] for i in range(len(unq_edges))]\n",
    "    c = df.groupby(['Start_id','End_id']).size().reset_index(name='counts')\n",
    "    count = dict()\n",
    "    times = dict()\n",
    "    d = df.groupby(['Start_id','End_id'])['tripduration'].sum().reset_index(name='total_time')\n",
    "    c['total_time'] = d['total_time']\n",
    "    for index, row in c.iterrows():\n",
    "        # a is how many time the edge appears\n",
    "        # a = edges.count(i)\n",
    "        key = (row['Start_id'],row['End_id'])\n",
    "        count[key]=row['counts']\n",
    "        # durations = df['tripduration'][(df['Start_id']==row['Start_id']) & (df['End_id']==row['End_id'])]\n",
    "        ave_time = row['total_time']/row['counts']\n",
    "        times[key]=ave_time\n",
    "        G.add_edge(row['Start_id'],row['End_id'],count=row['counts'],time = ave_time)   \n",
    "    # G.add_edge(start,end,times=time,counts=count)\n",
    "    return G,node_names\n",
    "    "
   ]
  },
  {
   "cell_type": "code",
   "execution_count": 8,
   "metadata": {},
   "outputs": [],
   "source": [
    "G,nodes=get_citibike_graph(df)"
   ]
  },
  {
   "cell_type": "code",
   "execution_count": 6,
   "metadata": {},
   "outputs": [
    {
     "ename": "NameError",
     "evalue": "name 'node_names' is not defined",
     "output_type": "error",
     "traceback": [
      "\u001b[0;31m---------------------------------------------------------------------------\u001b[0m",
      "\u001b[0;31mNameError\u001b[0m                                 Traceback (most recent call last)",
      "\u001b[0;32m<ipython-input-6-78989faac41b>\u001b[0m in \u001b[0;36m<module>\u001b[0;34m\u001b[0m\n\u001b[0;32m----> 1\u001b[0;31m \u001b[0mlen\u001b[0m\u001b[0;34m(\u001b[0m\u001b[0mnode_names\u001b[0m\u001b[0;34m)\u001b[0m\u001b[0;34m\u001b[0m\u001b[0;34m\u001b[0m\u001b[0m\n\u001b[0m",
      "\u001b[0;31mNameError\u001b[0m: name 'node_names' is not defined"
     ]
    }
   ],
   "source": [
    "len(nodes)"
   ]
  },
  {
   "cell_type": "markdown",
   "metadata": {},
   "source": [
    "<h1>STEP 4: Create the following graphs using the function above</h1>\n",
    "<li>G: A graph of all the data in the dataframe\n",
    "<li>m_G: A graph containing only data from male riders\n",
    "<li>f_G: A graph containing only data from female riders\n",
    "<li>Note: for m_G and f_G you will need to extract data from the dataframe"
   ]
  },
  {
   "cell_type": "code",
   "execution_count": null,
   "metadata": {},
   "outputs": [],
   "source": [
    "G,nodes=get_citibike_graph(df)"
   ]
  },
  {
   "cell_type": "code",
   "execution_count": null,
   "metadata": {},
   "outputs": [],
   "source": [
    "#df['Female']=np.where(df['gender']==2,1,0)\n",
    "#df['Male']=np.where(df['gender']==1,1,0)"
   ]
  },
  {
   "cell_type": "code",
   "execution_count": null,
   "metadata": {},
   "outputs": [],
   "source": []
  },
  {
   "cell_type": "code",
   "execution_count": null,
   "metadata": {},
   "outputs": [],
   "source": []
  },
  {
   "cell_type": "markdown",
   "metadata": {},
   "source": [
    "<h1>STEP 5: Answer the following questions for each of the graphs</h1>\n",
    "<ol>\n",
    "<li>Which station (name) is the best connected (max degree)?\n",
    "<li>Travel between which pair of stations is the longest in terms of average duration between bike pickups and dropoffs. Report both the two stations as well as the time in minutes\n",
    "<li>Which edge is associated with the most number of trips?\n",
    "<li>Which station is the most central?\n",
    "<li>Which node is a bottleneck node?"
   ]
  },
  {
   "cell_type": "markdown",
   "metadata": {},
   "source": [
    "Which station (name) has the greatest number of connections (max degree)?"
   ]
  },
  {
   "cell_type": "code",
   "execution_count": null,
   "metadata": {},
   "outputs": [],
   "source": [
    "\n"
   ]
  },
  {
   "cell_type": "markdown",
   "metadata": {},
   "source": [
    "Travel between which pair of stations is the longest in terms of average duration between bike pickups and dropoffs"
   ]
  },
  {
   "cell_type": "code",
   "execution_count": null,
   "metadata": {},
   "outputs": [],
   "source": [
    "#Note: I've printed the max edges but you don't need to print them"
   ]
  },
  {
   "cell_type": "markdown",
   "metadata": {},
   "source": [
    "Which edge is associated with the most number of trips?"
   ]
  },
  {
   "cell_type": "code",
   "execution_count": null,
   "metadata": {},
   "outputs": [],
   "source": []
  },
  {
   "cell_type": "markdown",
   "metadata": {},
   "source": [
    "<h2>Centrality</h2>\n",
    "One of the concerns that the citibike system has to deal with is ensuring that no station has empty slots (a bike should always be available) and that no station should have no empty slots (you should be able to return a bike). To do this, it needs to monitor the movement of bikes through the system, ideally using a directed graph. Though our graph is not directed, we can look at some network characteristics that will help us answer these questions. Note that the \"trips\" feature in edge data captures flows.\n",
    "<li>Which node is a possible bottleneck node in terms of bike flows?\n",
    "<li>Which node is the \"nearest\" to all other nodes (irrespective of flows)\n",
    "<li>Which node is the \"nearest\" to all other nodes (in terms of distance = time)\n"
   ]
  },
  {
   "cell_type": "code",
   "execution_count": null,
   "metadata": {},
   "outputs": [],
   "source": [
    "\n"
   ]
  },
  {
   "cell_type": "code",
   "execution_count": null,
   "metadata": {},
   "outputs": [],
   "source": []
  }
 ],
 "metadata": {
  "kernelspec": {
   "display_name": "Python 3",
   "language": "python",
   "name": "python3"
  },
  "language_info": {
   "codemirror_mode": {
    "name": "ipython",
    "version": 3
   },
   "file_extension": ".py",
   "mimetype": "text/x-python",
   "name": "python",
   "nbconvert_exporter": "python",
   "pygments_lexer": "ipython3",
   "version": "3.8.8"
  }
 },
 "nbformat": 4,
 "nbformat_minor": 2
}
